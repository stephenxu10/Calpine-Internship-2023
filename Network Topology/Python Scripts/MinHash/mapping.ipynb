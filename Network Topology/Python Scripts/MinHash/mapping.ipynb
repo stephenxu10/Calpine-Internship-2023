{
 "cells": [
  {
   "cell_type": "code",
   "execution_count": 1,
   "metadata": {},
   "outputs": [],
   "source": [
    "import pandas as pd\n",
    "from sklearn.utils import murmurhash3_32\n",
    "import numpy as np\n",
    "import time\n",
    "import random\n",
    "import os\n",
    "from minhash import HashTable, get_grams, jaccard_similarity\n",
    "\n",
    "os.chdir(\"./../\")\n",
    "from BusMapping import build_graph"
   ]
  },
  {
   "cell_type": "code",
   "execution_count": 2,
   "metadata": {},
   "outputs": [],
   "source": [
    "def insert(url: str, h_tables: HashTable):\n",
    "    hashcodes = []\n",
    "    for l in range(h_tables.L):\n",
    "        hashcodes.append(h_tables.hashes[l](url, h_tables.K))\n",
    "\n",
    "    h_tables.insert(hashcodes, url)\n",
    "\n",
    "def query(url: str, h_tables: HashTable):\n",
    "    hashcodes = []\n",
    "    for l in range(h_tables.L):\n",
    "        hashcodes.append(h_tables.hashes[l](url, h_tables.K))\n",
    "    \n",
    "    return h_tables.lookup(hashcodes)"
   ]
  },
  {
   "cell_type": "code",
   "execution_count": 3,
   "metadata": {},
   "outputs": [],
   "source": [
    "CRR_sheet = \"//pzpwcmfs01/CA/11_Transmission Analysis/ERCOT/101 - Misc/CRR Limit Aggregates/Network Topology/More Nodes/CRR Buses and Branches.xlsx\"\n",
    "WECC_sheet = \"//pzpwcmfs01/CA/11_Transmission Analysis/ERCOT/101 - Misc/CRR Limit Aggregates/Network Topology/More Nodes/WECC Buses and Branches.xlsx\"\n",
    "\n",
    "CRR_Network = build_graph(CRR_sheet, 1)\n",
    "WECC_Network = build_graph(WECC_sheet, 2)"
   ]
  },
  {
   "cell_type": "code",
   "execution_count": 4,
   "metadata": {},
   "outputs": [],
   "source": [
    "K = 5\n",
    "L = 100\n",
    "B = 64\n",
    "R = 2 ** 12\n",
    "hash_tables = HashTable(K, L, B, R)"
   ]
  },
  {
   "cell_type": "code",
   "execution_count": 5,
   "metadata": {},
   "outputs": [],
   "source": [
    "for bus in WECC_Network.graph.keys():\n",
    "    insert(bus.name, hash_tables)"
   ]
  },
  {
   "cell_type": "code",
   "execution_count": 6,
   "metadata": {},
   "outputs": [
    {
     "name": "stdout",
     "output_type": "stream",
     "text": [
      "{'Q1398', 'ATLANTC', 'SONOMAPPGEO', 'WINDMASTERJT', 'REMUSTANG'}\n"
     ]
    }
   ],
   "source": [
    "print(query(\"LOCKFD\", hash_tables))"
   ]
  }
 ],
 "metadata": {
  "kernelspec": {
   "display_name": "calpine",
   "language": "python",
   "name": "python3"
  },
  "language_info": {
   "codemirror_mode": {
    "name": "ipython",
    "version": 3
   },
   "file_extension": ".py",
   "mimetype": "text/x-python",
   "name": "python",
   "nbconvert_exporter": "python",
   "pygments_lexer": "ipython3",
   "version": "3.7.6"
  }
 },
 "nbformat": 4,
 "nbformat_minor": 2
}
